{
 "cells": [
  {
   "cell_type": "code",
   "execution_count": 40,
   "id": "ad361ecf-0338-4967-b5e2-1b138fde6789",
   "metadata": {},
   "outputs": [],
   "source": [
    "import matplotlib.pyplot as plt\n",
    "import numpy as np\n",
    "from IPython.display import clear_output\n",
    "from qiskit import QuantumCircuit\n",
    "from qiskit.circuit import Parameter\n",
    "from qiskit.circuit.library import RealAmplitudes, ZZFeatureMap\n",
    "from qiskit_algorithms.optimizers import COBYLA, L_BFGS_B,TNC\n",
    "from qiskit_algorithms.utils import algorithm_globals\n",
    "\n",
    "from qiskit_machine_learning.algorithms.classifiers import NeuralNetworkClassifier, VQC\n",
    "from qiskit_machine_learning.algorithms.regressors import NeuralNetworkRegressor, VQR\n",
    "from qiskit_machine_learning.neural_networks import SamplerQNN, EstimatorQNN\n",
    "from qiskit_machine_learning.circuit.library import QNNCircuit\n",
    "\n",
    "algorithm_globals.random_seed = 12345\n",
    "np.random.seed(42)"
   ]
  },
  {
   "cell_type": "markdown",
   "id": "6b506add-f57e-4443-9f02-e2e420d39533",
   "metadata": {},
   "source": [
    "## Hard core VQC"
   ]
  },
  {
   "cell_type": "code",
   "execution_count": 41,
   "id": "56d7113f-b2da-452c-a836-488525b021bc",
   "metadata": {},
   "outputs": [],
   "source": [
    "# Cross Entropy function.\n",
    "def cross_entropy(y_pred, y_true):\n",
    " \n",
    "    # computing softmax values for predicted values\n",
    "    #y_pred = softmax(y_pred)\n",
    "    loss = 0\n",
    "     \n",
    "    # Doing cross entropy Loss\n",
    "    for i in range(len(y_pred)):\n",
    " \n",
    "        # Here, the loss is computed using the\n",
    "        # above mathematical formulation.\n",
    "        loss = loss + (-1 * y_true[i]*np.log(y_pred[i]))\n",
    "    # print(loss)\n",
    "    return loss"
   ]
  },
  {
   "cell_type": "code",
   "execution_count": 42,
   "id": "390b3d44-548d-40d2-a51a-680e0450d5ad",
   "metadata": {},
   "outputs": [],
   "source": [
    "# Use ad hoc data set for training and test data\n",
    "from qiskit_machine_learning.datasets import ad_hoc_data\n",
    "feature_dim = 2  # dimension of each data point\n",
    "training_size = 20\n",
    "test_size = 10\n",
    "\n",
    "# training features, training labels, test features, test labels as np.ndarray,\n",
    "# one hot encoding for labels\n",
    "training_features, training_labels, test_features, test_labels = ad_hoc_data(\n",
    "    training_size=training_size, test_size=test_size, n=feature_dim, gap=0.3\n",
    ")"
   ]
  },
  {
   "cell_type": "code",
   "execution_count": 43,
   "id": "22cc6285",
   "metadata": {},
   "outputs": [
    {
     "data": {
      "text/plain": [
       "array([[1., 0.],\n",
       "       [1., 0.],\n",
       "       [1., 0.],\n",
       "       [1., 0.],\n",
       "       [1., 0.],\n",
       "       [1., 0.],\n",
       "       [1., 0.],\n",
       "       [1., 0.],\n",
       "       [1., 0.],\n",
       "       [1., 0.],\n",
       "       [1., 0.],\n",
       "       [1., 0.],\n",
       "       [1., 0.],\n",
       "       [1., 0.],\n",
       "       [1., 0.],\n",
       "       [1., 0.],\n",
       "       [1., 0.],\n",
       "       [1., 0.],\n",
       "       [1., 0.],\n",
       "       [1., 0.],\n",
       "       [0., 1.],\n",
       "       [0., 1.],\n",
       "       [0., 1.],\n",
       "       [0., 1.],\n",
       "       [0., 1.],\n",
       "       [0., 1.],\n",
       "       [0., 1.],\n",
       "       [0., 1.],\n",
       "       [0., 1.],\n",
       "       [0., 1.],\n",
       "       [0., 1.],\n",
       "       [0., 1.],\n",
       "       [0., 1.],\n",
       "       [0., 1.],\n",
       "       [0., 1.],\n",
       "       [0., 1.],\n",
       "       [0., 1.],\n",
       "       [0., 1.],\n",
       "       [0., 1.],\n",
       "       [0., 1.]])"
      ]
     },
     "execution_count": 43,
     "metadata": {},
     "output_type": "execute_result"
    }
   ],
   "source": [
    "training_labels"
   ]
  },
  {
   "cell_type": "code",
   "execution_count": 44,
   "id": "6b010b56-c766-4b31-a3c2-92c0da60c813",
   "metadata": {},
   "outputs": [
    {
     "data": {
      "image/png": "[encoded data removed]",
      "text/plain": [
       "<Figure size 640x480 with 1 Axes>"
      ]
     },
     "metadata": {},
     "output_type": "display_data"
    }
   ],
   "source": [
    "x1=[]\n",
    "x2=[]\n",
    "for i, v in enumerate(training_features):\n",
    "    if training_labels[i][0]==1:\n",
    "        x1.append(list(v))\n",
    "    else:\n",
    "        x2.append(list(v))\n",
    "x1=np.array(x1)    \n",
    "x2=np.array(x2) \n",
    "plt.scatter(x1[:,0],x1[:,1],s=10, c='b', marker=\"o\", label='first')     \n",
    "plt.scatter(x2[:,0],x2[:,1],s=10, c='r', marker=\"o\", label='second') \n",
    "plt.show()\n",
    "    "
   ]
  },
  {
   "cell_type": "code",
   "execution_count": null,
   "id": "0773399d-04c4-4de6-9346-cefb80038483",
   "metadata": {},
   "outputs": [],
   "source": []
  },
  {
   "cell_type": "code",
   "execution_count": 45,
   "id": "9adb0dd4-de01-4c5d-a0e8-2924349506be",
   "metadata": {},
   "outputs": [
    {
     "data": {
      "image/png": "[encoded data removed]",
      "text/plain": [
       "<Figure size 370.906x200.667 with 1 Axes>"
      ]
     },
     "execution_count": 45,
     "metadata": {},
     "output_type": "execute_result"
    }
   ],
   "source": [
    "from qiskit.circuit.library import  TwoLocal, ZZFeatureMap,RealAmplitudes\n",
    "feature_map = ZZFeatureMap(feature_dimension=feature_dim, reps=2, entanglement=\"linear\") ## Choose feagture map\n",
    "# ansatz = TwoLocal(feature_map.num_qubits, [\"ry\", \"rz\"], \"cz\", reps=3)\n",
    "feature_map.draw('mpl')"
   ]
  },
  {
   "cell_type": "code",
   "execution_count": 46,
   "id": "8fa01d31-c8b6-42cf-ac11-556c52039e70",
   "metadata": {},
   "outputs": [],
   "source": [
    "# ansatz.draw('mpl')"
   ]
  },
  {
   "cell_type": "code",
   "execution_count": 47,
   "id": "0b9857a2",
   "metadata": {},
   "outputs": [
    {
     "data": {
      "image/png": "[encoded data removed]",
      "text/plain": [
       "<Figure size 705.35x200.667 with 1 Axes>"
      ]
     },
     "execution_count": 47,
     "metadata": {},
     "output_type": "execute_result"
    }
   ],
   "source": [
    "from qiskit.circuit.library import RealAmplitudes\n",
    "\n",
    "\n",
    "ansatz = RealAmplitudes(num_qubits=feature_dim, reps=3)\n",
    "ansatz.decompose().draw('mpl')"
   ]
  },
  {
   "cell_type": "code",
   "execution_count": 53,
   "id": "7bde7964-4aee-463e-9723-3111af743f71",
   "metadata": {},
   "outputs": [],
   "source": [
    "f_val=[]\n",
    "itr=0\n",
    "def cost_func(params, training_features, training_labels, sampler):\n",
    "    \"\"\"Return estimate of energy from sampler\n",
    "\n",
    "    Parameters:\n",
    "        params (ndarray): Array of ansatz parameters\n",
    "        ansatz (QuantumCircuit): Parameterized ansatz circuit\n",
    "\n",
    "    Returns:\n",
    "        float: Energy estimate\n",
    "    \"\"\"\n",
    "    global f_val,itr\n",
    "    feature_map = ZZFeatureMap(feature_dimension=feature_dim, reps=2, entanglement=\"linear\") ## Choose feagture map\n",
    "    # ansatz = TwoLocal(feature_map.num_qubits, [\"ry\", \"rz\"], \"cz\", reps=3)\n",
    "    ansatz = RealAmplitudes(num_qubits=feature_dim, reps=3)\n",
    "\n",
    "    vqc_ckt = feature_map.compose(ansatz)\n",
    "\n",
    "    loss=[]\n",
    "    for i,x in enumerate(training_features):\n",
    "        qc=vqc_ckt.copy()\n",
    "        parameters=list(x)+list(params)\n",
    "        qc.measure_all()\n",
    "        job=sampler.run(qc,parameters)\n",
    "        res=job.result().quasi_dists\n",
    "\n",
    "        # Formate of output\n",
    "        y_true=list(np. zeros(2**qc.num_qubits))\n",
    "        if training_labels[i][0]==1:\n",
    "            y_true[1]=1\n",
    "        else:\n",
    "            y_true[2]=1\n",
    "        y_pred=list(res[0].values())\n",
    "\n",
    "        #print(y_pred, y_true)\n",
    "        loss.append(cross_entropy(y_pred, y_true))\n",
    "        \n",
    "    cost=sum(loss)/len(loss)\n",
    "    f_val.append(cost)\n",
    "\n",
    "    if itr%10==0:\n",
    "        print('Iteration:',itr,'fun:',cost)\n",
    "    itr=itr+1\n",
    "\n",
    "    return cost"
   ]
  },
  {
   "cell_type": "code",
   "execution_count": 56,
   "id": "44c1c250-4382-40f2-bf6c-ddb5d6dda7eb",
   "metadata": {},
   "outputs": [
    {
     "name": "stdout",
     "output_type": "stream",
     "text": [
      "[0.45606998 0.78517596 0.19967378 0.51423444 0.59241457 0.04645041\n",
      " 0.60754485 0.17052412]\n"
     ]
    }
   ],
   "source": [
    "from qiskit.primitives import Estimator, Sampler\n",
    "#estimator = Estimator()\n",
    "sampler=Sampler()\n",
    "x0 = np.random.rand(ansatz.num_parameters)  ## Initial value      #43\n",
    "print(x0)\n",
    "# x0=np.array ([0.45923317, 0.49371866, 0.57551473, 0.84051917, 0.25993984, 0.66425266,\n",
    "#  0.16559752, 0.63738022, 0.93002718, 0.0168024  ,0.64698912 ,0.56321298,\n",
    "#  0.3359864 , 0.62684042, 0.54548639, 0.03302976,])\n",
    "\n",
    "# x0=np.array([ 0.54984404, -0.41036317,  0.20175046,  2.65439476,  0.39962775,\n",
    "#         0.57569455,  2.40122922,  2.18254696,  3.31398097,  1.26346976,\n",
    "#         0.42897529,  2.24253612, -0.59721792,  1.76331745,  1.14339952,\n",
    "#         0.22966247])"
   ]
  },
  {
   "cell_type": "code",
   "execution_count": 57,
   "id": "cdd0eb83-768c-405d-8bcd-e49e82d8d24f",
   "metadata": {},
   "outputs": [
    {
     "name": "stdout",
     "output_type": "stream",
     "text": [
      "Iteration: 150 fun: 1.576831460173278\n",
      "Iteration: 160 fun: 1.1702114821719038\n",
      "Iteration: 170 fun: 0.9515267865362071\n",
      "Iteration: 180 fun: 0.9340297362946087\n",
      "Iteration: 190 fun: 0.90434277590722\n",
      "Iteration: 200 fun: 0.8707433543767797\n",
      "Iteration: 210 fun: 0.8043444953486801\n",
      "Iteration: 220 fun: 0.7762891757883355\n",
      "Iteration: 230 fun: 0.7687243022298645\n",
      "Iteration: 240 fun: 0.7671106883150516\n",
      "Iteration: 250 fun: 0.7668609774108012\n",
      "Iteration: 260 fun: 0.7668590528510048\n",
      "Iteration: 270 fun: 0.766844026021484\n",
      "Iteration: 280 fun: 0.7668329455028889\n",
      "Iteration: 290 fun: 0.7668321827829485\n",
      "CPU times: user 18.6 s, sys: 1.19 s, total: 19.8 s\n",
      "Wall time: 19.1 s\n",
      "\n",
      "   Return from subroutine COBYLA because the MAXFUN limit has been reached.\n",
      "\n",
      "   NFVALS =  150   F = 7.668321E-01    MAXCV = 0.000000E+00\n",
      "   X = 1.485953E-01   1.894889E+00   7.996730E-01   2.693256E-01   5.529635E-01\n",
      "      -7.605416E-01   2.879943E-01  -1.372118E+00\n"
     ]
    }
   ],
   "source": [
    "%%time\n",
    "# SciPy minimizer routine\n",
    "from scipy.optimize import minimize\n",
    "opt = minimize(cost_func, x0, args=(training_features, training_labels, sampler), method=\"COBYLA\", options={'disp': True, 'ftol':0.05, 'maxiter':150})\n",
    "\n"
   ]
  },
  {
   "cell_type": "code",
   "execution_count": 234,
   "id": "b9d258f9-9b9e-40d0-8b95-d2c5d2743703",
   "metadata": {},
   "outputs": [],
   "source": [
    "#cost_func(x0, training_features, training_labels, sampler)"
   ]
  },
  {
   "cell_type": "code",
   "execution_count": 11,
   "id": "4c36f366-ea41-433f-ba82-f3016656b246",
   "metadata": {},
   "outputs": [
    {
     "data": {
      "image/png": "[encoded data removed]",
      "text/plain": [
       "<Figure size 1200x600 with 1 Axes>"
      ]
     },
     "metadata": {},
     "output_type": "display_data"
    }
   ],
   "source": [
    "\n",
    "plt.rcParams[\"figure.figsize\"] = (12, 6)\n",
    "plt.title(\"Objective function value against iteration\")\n",
    "plt.xlabel(\"Iteration\")\n",
    "plt.ylabel(\"Objective function value\")\n",
    "plt.plot(range(len(f_val)), f_val)\n",
    "plt.show()\n"
   ]
  },
  {
   "cell_type": "code",
   "execution_count": null,
   "id": "a27783c3-a5dc-4c99-84f2-39859fc75270",
   "metadata": {},
   "outputs": [],
   "source": []
  },
  {
   "cell_type": "markdown",
   "id": "d21811f6-5e61-4cb7-bad9-5dca6d1f132b",
   "metadata": {},
   "source": [
    "## Training data"
   ]
  },
  {
   "cell_type": "code",
   "execution_count": 12,
   "id": "e4d622c1-4744-4bff-a18a-8c3dde5798f5",
   "metadata": {},
   "outputs": [
    {
     "name": "stdout",
     "output_type": "stream",
     "text": [
      "[1, 1, 1, 0, 1, 1, 1, 1, 1, 1, 1, 1, 1, 1, 1, 0, 1, 1, 0, 1, 2, 2, 2, 2, 2, 3, 2, 2, 2, 2, 2, 2, 2, 2, 2, 2, 2, 2, 2, 2]\n",
      "[[1. 0.]\n",
      " [1. 0.]\n",
      " [1. 0.]\n",
      " [1. 0.]\n",
      " [1. 0.]\n",
      " [1. 0.]\n",
      " [1. 0.]\n",
      " [1. 0.]\n",
      " [1. 0.]\n",
      " [1. 0.]\n",
      " [1. 0.]\n",
      " [1. 0.]\n",
      " [1. 0.]\n",
      " [1. 0.]\n",
      " [1. 0.]\n",
      " [1. 0.]\n",
      " [1. 0.]\n",
      " [1. 0.]\n",
      " [1. 0.]\n",
      " [1. 0.]\n",
      " [0. 1.]\n",
      " [0. 1.]\n",
      " [0. 1.]\n",
      " [0. 1.]\n",
      " [0. 1.]\n",
      " [0. 1.]\n",
      " [0. 1.]\n",
      " [0. 1.]\n",
      " [0. 1.]\n",
      " [0. 1.]\n",
      " [0. 1.]\n",
      " [0. 1.]\n",
      " [0. 1.]\n",
      " [0. 1.]\n",
      " [0. 1.]\n",
      " [0. 1.]\n",
      " [0. 1.]\n",
      " [0. 1.]\n",
      " [0. 1.]\n",
      " [0. 1.]]\n"
     ]
    }
   ],
   "source": [
    "para=list(opt.x)\n",
    "lst=[]\n",
    "feature_map = ZZFeatureMap(feature_dimension=feature_dim, reps=2, entanglement=\"linear\") ## Choose feagture map\n",
    "ansatz = TwoLocal(feature_map.num_qubits, [\"ry\", \"rz\"], \"cz\", reps=3)\n",
    "vqc_ckt = feature_map.compose(ansatz)\n",
    "\n",
    "for i in range(len(training_features)):\n",
    "    qc=vqc_ckt.copy()\n",
    "    parameters=list(training_features[i])+para\n",
    "    qc.measure_all()\n",
    "    job=sampler.run(qc,parameters)\n",
    "    res=job.result().quasi_dists\n",
    "    lst.append(res)\n",
    "\n",
    "lb=[]\n",
    "for i in lst:\n",
    "    k=list(i[0].keys())\n",
    "    v=list(i[0].values())\n",
    "    lb.append(k[v.index(max(v))])\n",
    "print(lb)\n",
    "print(training_labels)"
   ]
  },
  {
   "cell_type": "code",
   "execution_count": 13,
   "id": "1d61fc32-d25c-424d-8155-fdd70fa8c6ce",
   "metadata": {},
   "outputs": [
    {
     "data": {
      "text/plain": [
       "'10'"
      ]
     },
     "execution_count": 13,
     "metadata": {},
     "output_type": "execute_result"
    }
   ],
   "source": [
    "bin(2)[2:]"
   ]
  },
  {
   "cell_type": "markdown",
   "id": "fbb88e75-a724-49b2-b096-4dda0fe3952d",
   "metadata": {},
   "source": [
    "## Testing data"
   ]
  },
  {
   "cell_type": "code",
   "execution_count": 14,
   "id": "10ed43cc-f1de-4af1-a97e-9134b96f9be7",
   "metadata": {},
   "outputs": [
    {
     "name": "stdout",
     "output_type": "stream",
     "text": [
      "[1, 1, 3, 1, 1, 3, 1, 1, 1, 1, 2, 3, 2, 2, 2, 2, 2, 2, 2, 2]\n",
      "[[1. 0.]\n",
      " [1. 0.]\n",
      " [1. 0.]\n",
      " [1. 0.]\n",
      " [1. 0.]\n",
      " [1. 0.]\n",
      " [1. 0.]\n",
      " [1. 0.]\n",
      " [1. 0.]\n",
      " [1. 0.]\n",
      " [0. 1.]\n",
      " [0. 1.]\n",
      " [0. 1.]\n",
      " [0. 1.]\n",
      " [0. 1.]\n",
      " [0. 1.]\n",
      " [0. 1.]\n",
      " [0. 1.]\n",
      " [0. 1.]\n",
      " [0. 1.]]\n"
     ]
    }
   ],
   "source": [
    "para=list(opt.x)\n",
    "lst=[]\n",
    "feature_map = ZZFeatureMap(feature_dimension=feature_dim, reps=2, entanglement=\"linear\") ## Choose feagture map\n",
    "ansatz = TwoLocal(feature_map.num_qubits, [\"ry\", \"rz\"], \"cz\", reps=3)\n",
    "vqc_ckt = feature_map.compose(ansatz)\n",
    "\n",
    "for i in range(len(test_features)):\n",
    "    qc=vqc_ckt.copy()\n",
    "    parameters=list(test_features[i])+para\n",
    "    qc.measure_all()\n",
    "    job=sampler.run(qc,parameters)\n",
    "    res=job.result().quasi_dists\n",
    "    lst.append(res)\n",
    "\n",
    "lb=[]\n",
    "for i in lst:\n",
    "    k=list(i[0].keys())\n",
    "    v=list(i[0].values())\n",
    "    lb.append(k[v.index(max(v))])\n",
    "print(lb)\n",
    "print(test_labels)"
   ]
  },
  {
   "cell_type": "code",
   "execution_count": null,
   "id": "54009bea-fc3f-4999-89a2-8486083fd013",
   "metadata": {},
   "outputs": [],
   "source": []
  },
  {
   "cell_type": "code",
   "execution_count": null,
   "id": "4cf0afd2-1899-4771-a063-885cfed2ba86",
   "metadata": {},
   "outputs": [],
   "source": []
  }
 ],
 "metadata": {
  "kernelspec": {
   "display_name": "Python 3 (ipykernel)",
   "language": "python",
   "name": "python3"
  },
  "language_info": {
   "codemirror_mode": {
    "name": "ipython",
    "version": 3
   },
   "file_extension": ".py",
   "mimetype": "text/x-python",
   "name": "python",
   "nbconvert_exporter": "python",
   "pygments_lexer": "ipython3",
   "version": "3.12.2"
  }
 },
 "nbformat": 4,
 "nbformat_minor": 5
}
