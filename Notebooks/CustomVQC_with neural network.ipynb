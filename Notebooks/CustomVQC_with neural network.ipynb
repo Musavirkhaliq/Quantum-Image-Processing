{
 "cells": [
  {
   "cell_type": "code",
   "execution_count": 1,
   "metadata": {},
   "outputs": [],
   "source": [
    "import matplotlib.pyplot as plt\n",
    "import numpy as np\n",
    "from IPython.display import clear_output\n",
    "from qiskit import QuantumCircuit\n",
    "from qiskit.circuit import Parameter\n",
    "from qiskit.circuit.library import RealAmplitudes, ZZFeatureMap\n",
    "from qiskit_algorithms.optimizers import COBYLA, L_BFGS_B,TNC\n",
    "from qiskit_algorithms.utils import algorithm_globals\n",
    "\n",
    "from qiskit_machine_learning.algorithms.classifiers import NeuralNetworkClassifier, VQC\n",
    "from qiskit_machine_learning.algorithms.regressors import NeuralNetworkRegressor, VQR\n",
    "from qiskit_machine_learning.neural_networks import SamplerQNN, EstimatorQNN\n",
    "from qiskit_machine_learning.circuit.library import QNNCircuit\n",
    "import numpy as np\n",
    "import matplotlib.pyplot as plt\n",
    "import time, copy, warnings\n",
    "\n",
    "import torch\n",
    "import torchvision\n",
    "\n",
    "from torchvision import datasets, transforms\n",
    "\n",
    "from sklearn import linear_model, svm\n",
    "from sklearn.ensemble import GradientBoostingClassifier, RandomForestClassifier\n",
    "from sklearn.neural_network import MLPClassifier\n",
    "\n",
    "from sklearn.metrics import classification_report, confusion_matrix, accuracy_score\n",
    "from qiskit_algorithms.utils import algorithm_globals\n",
    "np.random.seed(42)\n",
    "algorithm_globals.random_seed = 12345\n"
   ]
  },
  {
   "cell_type": "markdown",
   "metadata": {},
   "source": [
    "## Some additional Functions"
   ]
  },
  {
   "cell_type": "code",
   "execution_count": 3,
   "metadata": {},
   "outputs": [],
   "source": [
    "### Printing parameters of model\n",
    "# Assuming 'model' is your fully connected model\n",
    "def print_model_parameters(model):\n",
    "    \"\"\"\n",
    "    Print the parameters (weights and biases) of the fully connected model.\n",
    "\n",
    "    Args:\n",
    "        model (FCL): The fully connected model.\n",
    "    \"\"\"\n",
    "    # Access the linear layer of the model\n",
    "    linear_layer = model.fc\n",
    "    \n",
    "    # Print weights and biases\n",
    "    print(\"Weights:\")\n",
    "    print(linear_layer.weight.data)\n",
    "    print(\"Biases:\")\n",
    "    print(linear_layer.bias.data)\n",
    "\n",
    "# Assuming 'model' is your fully connected model\n",
    "# You need to instantiate the model before printing its parameters\n",
    "# model = FCL(2**num_qubits, 2)  # You need to define input_size and output_size here\n",
    "# # Train the model...\n",
    "# # After training, call the print_model_parameters function\n",
    "# print_model_parameters(model)\n"
   ]
  },
  {
   "cell_type": "markdown",
   "metadata": {},
   "source": [
    "### Loss function"
   ]
  },
  {
   "cell_type": "code",
   "execution_count": 5,
   "metadata": {},
   "outputs": [],
   "source": [
    "def cross_entropy(y_pred, y_true):\n",
    "    # Convert y_pred and y_true to PyTorch tensors\n",
    "    y_pred_tensor = torch.tensor(y_pred, dtype=torch.float32)\n",
    "    y_true_tensor = torch.tensor(y_true, dtype=torch.float32)\n",
    "\n",
    "    # Ensure y_pred_tensor has the shape of y_true_tensor\n",
    "    if y_pred_tensor.shape != y_true_tensor.shape:\n",
    "        raise ValueError(\"Shapes of y_pred and y_true must match.\")\n",
    "    # Compute softmax values for predicted probabilities\n",
    "    # y_pred_softmax = torch.softmax(y_pred_tensor, dim=-1)\n",
    "    y_true_softmax = torch.softmax(y_true_tensor, dim=-1)\n",
    "\n",
    "    # Compute cross-entropy loss\n",
    "    loss = -torch.sum(y_true_softmax * torch.log(y_pred_tensor + 1e-10))\n",
    "    # print(loss)\n",
    "    return loss.item()"
   ]
  },
  {
   "cell_type": "markdown",
   "metadata": {},
   "source": [
    "### Data Loading"
   ]
  },
  {
   "cell_type": "code",
   "execution_count": 7,
   "metadata": {},
   "outputs": [],
   "source": [
    "# Load MNIST dataset\n",
    "def load_dataset(size,train=True):\n",
    "    root = '~/Documents/image_datasets/MNIST'\n",
    "    dataset = datasets.MNIST(root=root, train=train, download=True,\n",
    "                             transform=transforms.Compose([\n",
    "                                 transforms.Resize((size, size)),\n",
    "                                 transforms.ToTensor(),\n",
    "                                 transforms.Normalize(mean=(0.5,), std=(0.5,))\n",
    "                             ]))\n",
    "    return dataset\n",
    "\n",
    "\n",
    "size = 4\n",
    "trainset = load_dataset(train=True,size=size)\n",
    "testset = load_dataset(train=False,size=size)\n",
    "\n"
   ]
  },
  {
   "cell_type": "markdown",
   "metadata": {},
   "source": [
    "### Selecting specific digits "
   ]
  },
  {
   "cell_type": "code",
   "execution_count": 9,
   "metadata": {},
   "outputs": [],
   "source": [
    "# Generate subset from dataset\n",
    "def generate_subset(dataset, *classes):\n",
    "    class_indices = torch.cat([torch.where(dataset.targets == c)[0] for c in classes])\n",
    "    subset = torch.utils.data.Subset(dataset, class_indices)\n",
    "    X = np.array([image.flatten().numpy() for image, _ in subset])\n",
    "    y = np.array([label for _, label in subset])\n",
    "    return X, y\n",
    "\n",
    "\n",
    "\n",
    "\n",
    "# \n",
    "classes = [0, 1]\n",
    "X_train, y_train = generate_subset(trainset, *classes)\n",
    "X_test, y_test = generate_subset(testset, *classes)\n",
    "\n",
    "# # Randomly sample a subset of data (optional)\n",
    "# # random_indices_test = np.random.choice(range(len(X_test)), 100, replace=False)\n",
    "# # X_test, y_test = X_test[random_indices_test], y_test[random_indices_test]\n",
    "\n",
    "# # random_indices_train = np.random.choice(range(len(X_train)), 1000, replace=False)\n",
    "# # X_train, y_train = X_train[random_indices_train], y_train[random_indices_train]"
   ]
  },
  {
   "cell_type": "markdown",
   "metadata": {},
   "source": [
    "### One hot Encoding"
   ]
  },
  {
   "cell_type": "code",
   "execution_count": 11,
   "metadata": {},
   "outputs": [],
   "source": [
    "def one_hot_encode(values):\n",
    "    max_value = max(values)\n",
    "    num_classes = max_value + 1\n",
    "    one_hot_vectors = []\n",
    "    for value in values:\n",
    "        one_hot_vector = [0] * num_classes\n",
    "        one_hot_vector[value] = 1\n",
    "        one_hot_vectors.append(one_hot_vector)\n",
    "    return one_hot_vectors\n",
    "\n",
    "# Example usage:\n",
    "y_train = one_hot_encode(y_train)\n",
    "y_test = one_hot_encode(y_test)\n",
    "\n"
   ]
  },
  {
   "cell_type": "code",
   "execution_count": 12,
   "metadata": {},
   "outputs": [
    {
     "name": "stdout",
     "output_type": "stream",
     "text": [
      "Size of Training set is  (12665, 16) \n",
      " and Testing set is (2115, 16)\n"
     ]
    }
   ],
   "source": [
    "# size of the test and train set\n",
    "print(f'Size of Training set is  {X_train.shape} \\n and Testing set is {X_test.shape}')"
   ]
  },
  {
   "cell_type": "markdown",
   "metadata": {},
   "source": [
    "### Creating a feature Map"
   ]
  },
  {
   "cell_type": "code",
   "execution_count": 14,
   "metadata": {},
   "outputs": [
    {
     "data": {
      "text/html": [
       "<pre style=\"word-wrap: normal;white-space: pre;background: #fff0;line-height: 1.1;font-family: &quot;Courier New&quot;,Courier,monospace\">     »\n",
       "q_0: »\n",
       "     »\n",
       "q_1: »\n",
       "     »\n",
       "q_2: »\n",
       "     »\n",
       "q_3: »\n",
       "     »\n",
       "«     ┌─────────────────────────────────────────────────────────────────────────────────────────────────────────────────┐\n",
       "«q_0: ┤0                                                                                                                ├\n",
       "«     │                                                                                                                 │\n",
       "«q_1: ┤1                                                                                                                ├\n",
       "«     │  Parameterizedinitialize(x[0],x[1],x[2],x[3],x[4],x[5],x[6],x[7],x[8],x[9],x[10],x[11],x[12],x[13],x[14],x[15]) │\n",
       "«q_2: ┤2                                                                                                                ├\n",
       "«     │                                                                                                                 │\n",
       "«q_3: ┤3                                                                                                                ├\n",
       "«     └─────────────────────────────────────────────────────────────────────────────────────────────────────────────────┘</pre>"
      ],
      "text/plain": [
       "     »\n",
       "q_0: »\n",
       "     »\n",
       "q_1: »\n",
       "     »\n",
       "q_2: »\n",
       "     »\n",
       "q_3: »\n",
       "     »\n",
       "«     ┌─────────────────────────────────────────────────────────────────────────────────────────────────────────────────┐\n",
       "«q_0: ┤0                                                                                                                ├\n",
       "«     │                                                                                                                 │\n",
       "«q_1: ┤1                                                                                                                ├\n",
       "«     │  Parameterizedinitialize(x[0],x[1],x[2],x[3],x[4],x[5],x[6],x[7],x[8],x[9],x[10],x[11],x[12],x[13],x[14],x[15]) │\n",
       "«q_2: ┤2                                                                                                                ├\n",
       "«     │                                                                                                                 │\n",
       "«q_3: ┤3                                                                                                                ├\n",
       "«     └─────────────────────────────────────────────────────────────────────────────────────────────────────────────────┘"
      ]
     },
     "execution_count": 14,
     "metadata": {},
     "output_type": "execute_result"
    }
   ],
   "source": [
    "from qiskit.circuit.library import PauliFeatureMap, ZFeatureMap, ZZFeatureMap\n",
    "from qiskit_machine_learning.circuit.library import RawFeatureVector\n",
    "import numpy as np\n",
    "\n",
    "def create_feature_map(size, encoding):\n",
    "    \"\"\"\n",
    "    Creates a feature map circuit based on the specified encoding type.\n",
    "\n",
    "    Parameters:\n",
    "        size (int): The size of the features.\n",
    "        encoding (str): The encoding type. Choose from 'Pauli', 'Z', 'ZZ', or 'RawFeatureVector'.\n",
    "\n",
    "    Returns:\n",
    "        qiskit.QuantumCircuit: The feature map quantum circuit.\n",
    "    \"\"\"\n",
    "\n",
    "    num_features = size ** 2\n",
    "    num_qubits = num_features\n",
    "\n",
    "    if encoding == 'Pauli':\n",
    "        fm = PauliFeatureMap(feature_dimension=num_features, reps=1, paulis=['Z'])\n",
    "    elif encoding == 'Z':\n",
    "        fm = ZFeatureMap(feature_dimension=num_features, reps=1)\n",
    "    elif encoding == 'ZZ':\n",
    "        fm = ZZFeatureMap(feature_dimension=num_features, reps=1)\n",
    "    elif encoding == 'RawFeatureVector':\n",
    "        num_qubits = int(np.log2(num_features))\n",
    "        fm = RawFeatureVector(feature_dimension=num_features)\n",
    "    else:\n",
    "        raise ValueError(\"Invalid encoding type. Choose from 'Pauli', 'Z', 'ZZ', or 'RawFeatureVector'.\")\n",
    "\n",
    "    # print(f'number of (features, qubits) = {num_features, num_qubits}')\n",
    "\n",
    "    return fm, num_qubits\n",
    "\n",
    "# Example usage:\n",
    "encoding = 'RawFeatureVector'\n",
    "fm,num_qubits = create_feature_map(size, encoding)\n",
    "fm.draw()\n"
   ]
  },
  {
   "cell_type": "markdown",
   "metadata": {},
   "source": [
    "### Creating Ansatz/ PQC"
   ]
  },
  {
   "cell_type": "code",
   "execution_count": 16,
   "metadata": {},
   "outputs": [
    {
     "data": {
      "image/png": "[encoded data removed]",
      "text/plain": [
       "<Figure size 1040x367.889 with 1 Axes>"
      ]
     },
     "execution_count": 16,
     "metadata": {},
     "output_type": "execute_result"
    }
   ],
   "source": [
    "from qiskit.circuit.library import RealAmplitudes\n",
    "\n",
    "\n",
    "ansatz = RealAmplitudes(num_qubits=num_qubits, reps=3)\n",
    "ansatz.decompose().draw('mpl')"
   ]
  },
  {
   "cell_type": "code",
   "execution_count": 34,
   "metadata": {},
   "outputs": [
    {
     "data": {
      "image/png": "[encoded data removed]",
      "text/plain": [
       "<Figure size 1625.27x367.889 with 1 Axes>"
      ]
     },
     "execution_count": 34,
     "metadata": {},
     "output_type": "execute_result"
    }
   ],
   "source": [
    "vqc_ckt = fm.compose(ansatz)\n",
    "# vqc_ckt=vqc_ckt.compose(fm)\n",
    "vqc_ckt.draw('mpl')"
   ]
  },
  {
   "cell_type": "code",
   "execution_count": 31,
   "metadata": {},
   "outputs": [
    {
     "data": {
      "text/plain": [
       "ParameterView([ParameterVectorElement(x[0]), ParameterVectorElement(x[1]), ParameterVectorElement(x[2]), ParameterVectorElement(x[3]), ParameterVectorElement(x[4]), ParameterVectorElement(x[5]), ParameterVectorElement(x[6]), ParameterVectorElement(x[7]), ParameterVectorElement(x[8]), ParameterVectorElement(x[9]), ParameterVectorElement(x[10]), ParameterVectorElement(x[11]), ParameterVectorElement(x[12]), ParameterVectorElement(x[13]), ParameterVectorElement(x[14]), ParameterVectorElement(x[15]), ParameterVectorElement(θ[0]), ParameterVectorElement(θ[1]), ParameterVectorElement(θ[2]), ParameterVectorElement(θ[3]), ParameterVectorElement(θ[4]), ParameterVectorElement(θ[5]), ParameterVectorElement(θ[6]), ParameterVectorElement(θ[7]), ParameterVectorElement(θ[8]), ParameterVectorElement(θ[9]), ParameterVectorElement(θ[10]), ParameterVectorElement(θ[11]), ParameterVectorElement(θ[12]), ParameterVectorElement(θ[13]), ParameterVectorElement(θ[14]), ParameterVectorElement(θ[15])])"
      ]
     },
     "execution_count": 31,
     "metadata": {},
     "output_type": "execute_result"
    }
   ],
   "source": [
    "vqc_ckt.parameters"
   ]
  },
  {
   "cell_type": "markdown",
   "metadata": {},
   "source": [
    "### Sampler and Inital Guess which is randomly Initialized"
   ]
  },
  {
   "cell_type": "code",
   "execution_count": 18,
   "metadata": {},
   "outputs": [
    {
     "data": {
      "text/plain": [
       "array([0.37454012, 0.95071431, 0.73199394, 0.59865848, 0.15601864,\n",
       "       0.15599452, 0.05808361, 0.86617615, 0.60111501, 0.70807258,\n",
       "       0.02058449, 0.96990985, 0.83244264, 0.21233911, 0.18182497,\n",
       "       0.18340451])"
      ]
     },
     "execution_count": 18,
     "metadata": {},
     "output_type": "execute_result"
    }
   ],
   "source": [
    "from qiskit.primitives import Estimator, Sampler\n",
    "#estimator = Estimator()\n",
    "sampler=Sampler()\n",
    "x0 = np.random.rand(ansatz.num_parameters)\n",
    "x0"
   ]
  },
  {
   "cell_type": "markdown",
   "metadata": {},
   "source": [
    "### Take an example as input and feeds it to the quantum network output Quasi Distribution"
   ]
  },
  {
   "cell_type": "code",
   "execution_count": 21,
   "metadata": {},
   "outputs": [],
   "source": [
    "def run_vqc_for_feature(vqc_ckt, sampler, params, feature):\n",
    "    \"\"\"\n",
    "    Run a variational quantum circuit (VQC) for a given features of a datapoint.\n",
    "\n",
    "    Args:\n",
    "        vqc_ckt (QuantumCircuit): The variational quantum circuit.\n",
    "        sampler (Sampler): The sampler object for executing the circuit.\n",
    "        params (list): The parameters of the circuit.\n",
    "        feature (list): The feature values.\n",
    "\n",
    "    Returns:\n",
    "        list: Quasi-probability distribution obtained from the circuit.\n",
    "    \"\"\"\n",
    "    qc = vqc_ckt.copy()  # Create a copy of the variational quantum circuit\n",
    "    parameters = list(feature) + list(params)  # Concatenate the feature with the circuit parameters\n",
    "    qc.measure_all()  # Measure all qubits in the circuit\n",
    "    job = sampler.run(qc, parameters)  # Run the circuit with the specified parameters\n",
    "    res = job.result().quasi_dists  # Get the quasi-probability distributions from the result\n",
    "    return list(res[0].values())  # Extract the quasi-probability distribution for the first outcome\n",
    "\n",
    "# Example usage:\n",
    "# for i, feature in enumerate(training_features):\n",
    "#     dis = run_vqc_for_feature(vqc_ckt, sampler, params, feature)\n",
    "    # Process the quasi-probability distribution obtained from the VQC for the current feature\n",
    "    # (e.g., use it to update model parameters, compute loss, etc.)\n"
   ]
  },
  {
   "cell_type": "markdown",
   "metadata": {},
   "source": [
    "### Defining a NN to see map $2^n$ to d classes\n"
   ]
  },
  {
   "cell_type": "code",
   "execution_count": 23,
   "metadata": {},
   "outputs": [],
   "source": [
    "import torch\n",
    "import torch.nn as nn\n",
    "import torch.nn.functional as F\n",
    "\n",
    "class FCL(nn.Module):\n",
    "    def __init__(self, input_size, output_size):\n",
    "        super(FCL, self).__init__()\n",
    "        self.fc = nn.Linear(input_size, output_size)\n",
    "\n",
    "    def forward(self, x):\n",
    "        x = self.fc(x)\n",
    "        return x\n",
    "\n",
    "# # Example usage:\n",
    "# input_size = 2**n  # Size of the input vector\n",
    "# output_size = d    # Size of the output vector\n",
    "\n",
    "# # Initialize the model\n",
    "# model = FCL(input_size, output_size)\n",
    "\n",
    "# # Assuming your input_vector is a tensor of shape (batch_size, 2**n)\n",
    "# # output_vector will be a tensor of shape (batch_size, d)\n",
    "# output_vector = model(input_vector)\n"
   ]
  },
  {
   "cell_type": "markdown",
   "metadata": {},
   "source": [
    "### Training of the Hybrid Network"
   ]
  },
  {
   "cell_type": "code",
   "execution_count": 25,
   "metadata": {},
   "outputs": [],
   "source": [
    "# Fully connected network\n",
    "input_size = 2 ** num_qubits  # Size of the input vector (output states of QC)\n",
    "output_size = 2  # Size of the output vector (number of classes)\n",
    "model = FCL(input_size, output_size)\n",
    "f_val = []\n",
    "itr = 0\n",
    "def train_quantum_nn(x0,X_train, y_train, sampler, feature_map, ansatz, num_qubits):\n",
    "    global f_val\n",
    "    global itr \n",
    "    fm,num_qubits = create_feature_map(size, encoding)\n",
    "    ansatz = RealAmplitudes(num_qubits=num_qubits, reps=3)\n",
    "\n",
    "    vqc_ckt = fm.compose(ansatz)\n",
    "\n",
    "    loss = []\n",
    "    for i, feature in enumerate(X_train):\n",
    "        # Run the variational quantum circuit for the current feature\n",
    "        dis = run_vqc_for_feature(vqc_ckt, sampler, x0, feature)\n",
    "        dis_tensor = torch.tensor(dis, dtype=torch.float32)\n",
    "        # apply sigmoid on dis_tensor\n",
    "\n",
    "        y_true = np.zeros(2**num_qubits)\n",
    "        if y_train[i][0]>y_train[i][1]:\n",
    "            for j in range(len(y_true)):\n",
    "                if j%2==0:\n",
    "                    y_true[j] = 1\n",
    "        else:\n",
    "            for j in range(len(y_true)):\n",
    "                if j%2!=0:\n",
    "                    y_true[j] = 1\n",
    "            # y_true[1] = 1\n",
    "        # Predict using the fully connected network\n",
    "        # y_predicted = model(dis_tensor)\n",
    "        # y_predicted_numpy = y_predicted.detach().numpy()\n",
    "        # Compute and append the cross-entropy loss\n",
    "        loss.append(cross_entropy(dis_tensor.detach().numpy(),y_true))\n",
    "\n",
    "    # Compute the average loss\n",
    "    cost = sum(loss) / len(loss)\n",
    "    f_val.append(cost)\n",
    "\n",
    "    # Display progress every 2 iterations\n",
    "    \n",
    "    print('Iteration:', itr, 'fun:', cost)\n",
    "\n",
    "    itr += 1\n",
    "\n",
    "    return cost\n"
   ]
  },
  {
   "cell_type": "code",
   "execution_count": 26,
   "metadata": {},
   "outputs": [
    {
     "name": "stdout",
     "output_type": "stream",
     "text": [
      "Weights:\n",
      "tensor([[ 0.1313,  0.1315,  0.2387, -0.1118, -0.2324, -0.1811, -0.2091, -0.0627,\n",
      "         -0.1967, -0.2068, -0.2494, -0.2025,  0.0304,  0.1707,  0.1125,  0.1611],\n",
      "        [-0.1719,  0.0688,  0.1083, -0.0115, -0.0823, -0.0539,  0.1213, -0.1986,\n",
      "         -0.1207, -0.1930, -0.1577, -0.0270,  0.0127, -0.0692,  0.0281, -0.1414]])\n",
      "Biases:\n",
      "tensor([-0.1212,  0.1949])\n"
     ]
    }
   ],
   "source": [
    "# classical parameters before trainig\n",
    "print_model_parameters(model)"
   ]
  },
  {
   "cell_type": "markdown",
   "metadata": {},
   "source": [
    "### Training"
   ]
  },
  {
   "cell_type": "code",
   "execution_count": null,
   "metadata": {},
   "outputs": [],
   "source": [
    "from scipy.optimize import minimize\n",
    "opt_result = minimize(train_quantum_nn, x0, args=(X_train, y_train, sampler, fm, ansatz, num_qubits), method=\"COBYLA\", options={'disp': True, 'ftol': 0.05, 'maxiter': 50})\n"
   ]
  },
  {
   "cell_type": "code",
   "execution_count": 28,
   "metadata": {},
   "outputs": [
    {
     "name": "stdout",
     "output_type": "stream",
     "text": [
      "Weights:\n",
      "tensor([[ 0.1313,  0.1315,  0.2387, -0.1118, -0.2324, -0.1811, -0.2091, -0.0627,\n",
      "         -0.1967, -0.2068, -0.2494, -0.2025,  0.0304,  0.1707,  0.1125,  0.1611],\n",
      "        [-0.1719,  0.0688,  0.1083, -0.0115, -0.0823, -0.0539,  0.1213, -0.1986,\n",
      "         -0.1207, -0.1930, -0.1577, -0.0270,  0.0127, -0.0692,  0.0281, -0.1414]])\n",
      "Biases:\n",
      "tensor([-0.1212,  0.1949])\n"
     ]
    }
   ],
   "source": [
    "# classical parameters after training\n",
    "print_model_parameters(model)"
   ]
  },
  {
   "cell_type": "markdown",
   "metadata": {},
   "source": [
    "### Evaluate the model accuracy"
   ]
  },
  {
   "cell_type": "code",
   "execution_count": null,
   "metadata": {},
   "outputs": [],
   "source": [
    "\n",
    "def evaluate_model(X_test, y_test, sampler, feature_map, ansatz, num_qubits, trained_params):\n",
    "    \"\"\"\n",
    "    Evaluate the quantum neural network on the test set.\n",
    "\n",
    "    Args:\n",
    "        X_test (numpy.ndarray): Test features.\n",
    "        y_test (numpy.ndarray): True labels for the test set.\n",
    "        sampler (Sampler): The sampler object for executing the circuit.\n",
    "        feature_map (QuantumCircuit): Feature map circuit.\n",
    "        ansatz (QuantumCircuit): Ansatz circuit.\n",
    "        num_qubits (int): Number of qubits.\n",
    "        trained_params (numpy.ndarray): Trained parameters for the quantum neural network.\n",
    "\n",
    "    Returns:\n",
    "        float: Accuracy of the model on the test set.\n",
    "    \"\"\"\n",
    "    correct = 0\n",
    "    total = len(X_test)\n",
    "\n",
    "    vqc_ckt = feature_map.compose(ansatz)\n",
    "    predictions=[]\n",
    "    for i, feature in enumerate(X_test):\n",
    "        # Run the variational quantum circuit for the current feature\n",
    "        dis = run_vqc_for_feature(vqc_ckt, sampler, trained_params, feature)\n",
    "        dis_tensor = torch.tensor(dis, dtype=torch.float32)\n",
    "        # print(dis_tensor)\n",
    "        # print(dis_tensor)\n",
    "        # Predict using the fully connected network\n",
    "        y_predicted = model(dis_tensor)\n",
    "        # print(y_predicted.data)\n",
    "        cl0=0\n",
    "        cl1=0\n",
    "        for j in range(len(dis_tensor)):\n",
    "            if j%2==0:\n",
    "                cl0+=dis_tensor[j]\n",
    "            else:\n",
    "                cl1+=dis_tensor[j]\n",
    "        print(f'class0={cl0},class1={cl1}')\n",
    "        predicted= 1 if cl1>cl0 else 0\n",
    "        # predicted = torch.argmax(dis_tensor)\n",
    "        predictions.append(predicted)\n",
    "        # print(cl)\n",
    "        # print(torch.argmax(torch.tensor(y_test[i])))\n",
    "        # _, predicted = torch.max(y_predicted.data)\n",
    "        \n",
    "        # Check prediction accuracy\n",
    "        if predicted == torch.argmax(torch.tensor(y_test[i])):\n",
    "            correct += 1\n",
    "    print(predictions)\n",
    "    accuracy = correct / total\n",
    "    return accuracy\n",
    "\n",
    "# Assuming opt_result.x contains the optimized parameters\n",
    "accuracy = evaluate_model(X_test, y_test, sampler, fm, ansatz, num_qubits, opt_result.x)\n",
    "print(\"Accuracy on test set:\", accuracy)\n"
   ]
  }
 ],
 "metadata": {
  "kernelspec": {
   "display_name": "QIP",
   "language": "python",
   "name": "python3"
  },
  "language_info": {
   "codemirror_mode": {
    "name": "ipython",
    "version": 3
   },
   "file_extension": ".py",
   "mimetype": "text/x-python",
   "name": "python",
   "nbconvert_exporter": "python",
   "pygments_lexer": "ipython3",
   "version": "3.12.2"
  }
 },
 "nbformat": 4,
 "nbformat_minor": 2
}
