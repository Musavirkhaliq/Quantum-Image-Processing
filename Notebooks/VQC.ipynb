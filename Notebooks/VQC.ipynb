{
 "cells": [
  {
   "cell_type": "code",
   "execution_count": 19,
   "metadata": {},
   "outputs": [],
   "source": [
    "import numpy as np\n",
    "import matplotlib.pyplot as plt\n",
    "import time, copy, warnings\n",
    "\n",
    "import torch\n",
    "import torchvision\n",
    "import torchvision.transforms as transforms\n",
    "\n",
    "from sklearn import linear_model, svm\n",
    "from sklearn.ensemble import GradientBoostingClassifier, RandomForestClassifier\n",
    "from sklearn.neural_network import MLPClassifier\n",
    "\n",
    "from sklearn.metrics import classification_report, confusion_matrix, accuracy_score"
   ]
  },
  {
   "cell_type": "markdown",
   "metadata": {},
   "source": [
    "# MNIST dataset (images and labels) "
   ]
  },
  {
   "cell_type": "code",
   "execution_count": 20,
   "metadata": {},
   "outputs": [
    {
     "name": "stdout",
     "output_type": "stream",
     "text": [
      "number of (train, test) examples = (60000, 10000)\n"
     ]
    }
   ],
   "source": [
    "# Load the dataset and transform it into tensors and normalize between -1 and 1.\n",
    "\n",
    "# Choose size as a power of 2\n",
    "size = 4\n",
    "\n",
    "transform = transforms.Compose([  \n",
    "    transforms.Resize((size, size)),\n",
    "    transforms.ToTensor(),\n",
    "    transforms.Normalize(mean=(0.5,), std=(0.5,)) \n",
    "])\n",
    "\n",
    "\n",
    "\n",
    "# Load MNIST train and test dataset\n",
    "trainset = torchvision.datasets.MNIST(root='~/Documents/image_datasets/MNIST', train=True, download=True, transform=transform)\n",
    "testset = torchvision.datasets.MNIST(root='~/Documents/image_datasets/MNIST', train=False, download=True, transform=transform)\n",
    "\n",
    "\n",
    "num_train, num_test = len(trainset), len(testset)\n",
    "print(f'number of (train, test) examples = {num_train, num_test}')\n"
   ]
  },
  {
   "cell_type": "markdown",
   "metadata": {},
   "source": [
    "## Binary Classification"
   ]
  },
  {
   "cell_type": "code",
   "execution_count": 21,
   "metadata": {},
   "outputs": [
    {
     "name": "stdout",
     "output_type": "stream",
     "text": [
      "number of (train, test) examples = (12107, 2010)\n"
     ]
    }
   ],
   "source": [
    "def generate_subset_2(dataset, class1, class2):\n",
    "    # Filter images for the selected classes\n",
    "    class1_indices = torch.where(dataset.targets == class1)[0]\n",
    "    class2_indices = torch.where(dataset.targets == class2)[0]\n",
    "\n",
    "    # Concatenate indices from both classes\n",
    "    selected_indices = torch.cat((class1_indices, class2_indices), dim=0)\n",
    "    \n",
    "    binary_dataset = torch.utils.data.Subset(dataset, selected_indices)\n",
    "    \n",
    "    X, y = [], []\n",
    "    for image, label in binary_dataset:\n",
    "        X.append(image.flatten().numpy())  # Convert image tensor to numpy array and add to features list\n",
    "        y.append(label) \n",
    "    return np.array(X), np.array(y)\n",
    "\n",
    "\n",
    "a = 4\n",
    "b = 7\n",
    "X_train, y_train = generate_subset_2(trainset, a, b)\n",
    "X_test, y_test = generate_subset_2(testset, a, b)\n",
    "\n",
    "num_train, num_test = X_train.shape[0], X_test.shape[0]\n",
    "print(f'number of (train, test) examples = {num_train, num_test}')\n",
    "\n"
   ]
  },
  {
   "cell_type": "code",
   "execution_count": 22,
   "metadata": {},
   "outputs": [],
   "source": [
    "# change 4 to 0 and 7 to 1\n",
    "y_train[y_train == a] = 0\n",
    "y_train[y_train == b] = 1\n",
    "y_test[y_test == a] = 0\n",
    "y_test[y_test == b] = 1"
   ]
  },
  {
   "cell_type": "code",
   "execution_count": 23,
   "metadata": {},
   "outputs": [],
   "source": [
    "#print a random image\n"
   ]
  },
  {
   "cell_type": "code",
   "execution_count": 24,
   "metadata": {},
   "outputs": [
    {
     "name": "stdout",
     "output_type": "stream",
     "text": [
      "image_6385 of size (4, 4) = (16,) :\n"
     ]
    },
    {
     "data": {
      "image/png": "[encoded data removed]",
      "text/plain": [
       "<Figure size 300x300 with 1 Axes>"
      ]
     },
     "metadata": {},
     "output_type": "display_data"
    }
   ],
   "source": [
    "idx = np.random.randint(num_train)\n",
    "image, label = X_train[idx], y_train[idx]\n",
    "print(f'image_{idx} of size {(size, size)} = {image.shape} :')\n",
    "\n",
    "plt.figure(figsize=(3,3))\n",
    "plt.imshow(image.reshape(size, size), cmap='gray')\n",
    "plt.title(f'True digit: {label}', fontsize=10)\n",
    "plt.show()"
   ]
  },
  {
   "cell_type": "markdown",
   "metadata": {},
   "source": [
    "## Data encodings"
   ]
  },
  {
   "cell_type": "code",
   "execution_count": 25,
   "metadata": {},
   "outputs": [
    {
     "name": "stdout",
     "output_type": "stream",
     "text": [
      "number of (features, qubits) = (16, 4)\n"
     ]
    },
    {
     "data": {
      "text/html": [
       "<pre style=\"word-wrap: normal;white-space: pre;background: #fff0;line-height: 1.1;font-family: &quot;Courier New&quot;,Courier,monospace\">     »\n",
       "q_0: »\n",
       "     »\n",
       "q_1: »\n",
       "     »\n",
       "q_2: »\n",
       "     »\n",
       "q_3: »\n",
       "     »\n",
       "«     ┌─────────────────────────────────────────────────────────────────────────────────────────────────────────────────┐\n",
       "«q_0: ┤0                                                                                                                ├\n",
       "«     │                                                                                                                 │\n",
       "«q_1: ┤1                                                                                                                ├\n",
       "«     │  Parameterizedinitialize(x[0],x[1],x[2],x[3],x[4],x[5],x[6],x[7],x[8],x[9],x[10],x[11],x[12],x[13],x[14],x[15]) │\n",
       "«q_2: ┤2                                                                                                                ├\n",
       "«     │                                                                                                                 │\n",
       "«q_3: ┤3                                                                                                                ├\n",
       "«     └─────────────────────────────────────────────────────────────────────────────────────────────────────────────────┘</pre>"
      ],
      "text/plain": [
       "     »\n",
       "q_0: »\n",
       "     »\n",
       "q_1: »\n",
       "     »\n",
       "q_2: »\n",
       "     »\n",
       "q_3: »\n",
       "     »\n",
       "«     ┌─────────────────────────────────────────────────────────────────────────────────────────────────────────────────┐\n",
       "«q_0: ┤0                                                                                                                ├\n",
       "«     │                                                                                                                 │\n",
       "«q_1: ┤1                                                                                                                ├\n",
       "«     │  Parameterizedinitialize(x[0],x[1],x[2],x[3],x[4],x[5],x[6],x[7],x[8],x[9],x[10],x[11],x[12],x[13],x[14],x[15]) │\n",
       "«q_2: ┤2                                                                                                                ├\n",
       "«     │                                                                                                                 │\n",
       "«q_3: ┤3                                                                                                                ├\n",
       "«     └─────────────────────────────────────────────────────────────────────────────────────────────────────────────────┘"
      ]
     },
     "execution_count": 25,
     "metadata": {},
     "output_type": "execute_result"
    }
   ],
   "source": [
    "from qiskit.circuit.library import PauliFeatureMap, ZFeatureMap, ZZFeatureMap\n",
    "from qiskit_machine_learning.circuit.library import RawFeatureVector\n",
    "import numpy as np\n",
    "\n",
    "def create_feature_map(size, encoding):\n",
    "    \"\"\"\n",
    "    Creates a feature map circuit based on the specified encoding type.\n",
    "\n",
    "    Parameters:\n",
    "        size (int): The size of the features.\n",
    "        encoding (str): The encoding type. Choose from 'Pauli', 'Z', 'ZZ', or 'RawFeatureVector'.\n",
    "\n",
    "    Returns:\n",
    "        qiskit.QuantumCircuit: The feature map quantum circuit.\n",
    "    \"\"\"\n",
    "\n",
    "    num_features = size ** 2\n",
    "    num_qubits = num_features\n",
    "\n",
    "    if encoding == 'Pauli':\n",
    "        fm = PauliFeatureMap(feature_dimension=num_features, reps=1, paulis=['Z'])\n",
    "    elif encoding == 'Z':\n",
    "        fm = ZFeatureMap(feature_dimension=num_features, reps=1)\n",
    "    elif encoding == 'ZZ':\n",
    "        fm = ZZFeatureMap(feature_dimension=num_features, reps=1)\n",
    "    elif encoding == 'RawFeatureVector':\n",
    "        num_qubits = int(np.log2(num_features))\n",
    "        fm = RawFeatureVector(feature_dimension=num_features)\n",
    "    else:\n",
    "        raise ValueError(\"Invalid encoding type. Choose from 'Pauli', 'Z', 'ZZ', or 'RawFeatureVector'.\")\n",
    "\n",
    "    print(f'number of (features, qubits) = {num_features, num_qubits}')\n",
    "\n",
    "    return fm, num_qubits\n",
    "\n",
    "# Example usage:\n",
    "size = 4\n",
    "encoding = 'RawFeatureVector'\n",
    "fm,num_qubits = create_feature_map(size, encoding)\n",
    "fm.draw()\n"
   ]
  },
  {
   "cell_type": "code",
   "execution_count": 26,
   "metadata": {},
   "outputs": [
    {
     "data": {
      "text/html": [
       "<pre style=\"word-wrap: normal;white-space: pre;background: #fff0;line-height: 1.1;font-family: &quot;Courier New&quot;,Courier,monospace\">     ┌──────────┐                             ┌──────────┐             »\n",
       "q_0: ┤ Ry(θ[0]) ├──────────────────────■──────┤ Ry(θ[4]) ├─────────────»\n",
       "     ├──────────┤                    ┌─┴─┐    ├──────────┤             »\n",
       "q_1: ┤ Ry(θ[1]) ├──────────■─────────┤ X ├────┤ Ry(θ[5]) ├──────■──────»\n",
       "     ├──────────┤        ┌─┴─┐    ┌──┴───┴───┐└──────────┘    ┌─┴─┐    »\n",
       "q_2: ┤ Ry(θ[2]) ├──■─────┤ X ├────┤ Ry(θ[6]) ├─────■──────────┤ X ├────»\n",
       "     ├──────────┤┌─┴─┐┌──┴───┴───┐└──────────┘   ┌─┴─┐    ┌───┴───┴───┐»\n",
       "q_3: ┤ Ry(θ[3]) ├┤ X ├┤ Ry(θ[7]) ├───────────────┤ X ├────┤ Ry(θ[11]) ├»\n",
       "     └──────────┘└───┘└──────────┘               └───┘    └───────────┘»\n",
       "«                  ┌──────────┐                          ┌───────────┐\n",
       "«q_0: ──────■──────┤ Ry(θ[8]) ├───────────────────■──────┤ Ry(θ[12]) ├\n",
       "«         ┌─┴─┐    ├──────────┤                 ┌─┴─┐    ├───────────┤\n",
       "«q_1: ────┤ X ├────┤ Ry(θ[9]) ├──────■──────────┤ X ├────┤ Ry(θ[13]) ├\n",
       "«     ┌───┴───┴───┐└──────────┘    ┌─┴─┐    ┌───┴───┴───┐└───────────┘\n",
       "«q_2: ┤ Ry(θ[10]) ├─────■──────────┤ X ├────┤ Ry(θ[14]) ├─────────────\n",
       "«     └───────────┘   ┌─┴─┐    ┌───┴───┴───┐└───────────┘             \n",
       "«q_3: ────────────────┤ X ├────┤ Ry(θ[15]) ├──────────────────────────\n",
       "«                     └───┘    └───────────┘                          </pre>"
      ],
      "text/plain": [
       "     ┌──────────┐                             ┌──────────┐             »\n",
       "q_0: ┤ Ry(θ[0]) ├──────────────────────■──────┤ Ry(θ[4]) ├─────────────»\n",
       "     ├──────────┤                    ┌─┴─┐    ├──────────┤             »\n",
       "q_1: ┤ Ry(θ[1]) ├──────────■─────────┤ X ├────┤ Ry(θ[5]) ├──────■──────»\n",
       "     ├──────────┤        ┌─┴─┐    ┌──┴───┴───┐└──────────┘    ┌─┴─┐    »\n",
       "q_2: ┤ Ry(θ[2]) ├──■─────┤ X ├────┤ Ry(θ[6]) ├─────■──────────┤ X ├────»\n",
       "     ├──────────┤┌─┴─┐┌──┴───┴───┐└──────────┘   ┌─┴─┐    ┌───┴───┴───┐»\n",
       "q_3: ┤ Ry(θ[3]) ├┤ X ├┤ Ry(θ[7]) ├───────────────┤ X ├────┤ Ry(θ[11]) ├»\n",
       "     └──────────┘└───┘└──────────┘               └───┘    └───────────┘»\n",
       "«                  ┌──────────┐                          ┌───────────┐\n",
       "«q_0: ──────■──────┤ Ry(θ[8]) ├───────────────────■──────┤ Ry(θ[12]) ├\n",
       "«         ┌─┴─┐    ├──────────┤                 ┌─┴─┐    ├───────────┤\n",
       "«q_1: ────┤ X ├────┤ Ry(θ[9]) ├──────■──────────┤ X ├────┤ Ry(θ[13]) ├\n",
       "«     ┌───┴───┴───┐└──────────┘    ┌─┴─┐    ┌───┴───┴───┐└───────────┘\n",
       "«q_2: ┤ Ry(θ[10]) ├─────■──────────┤ X ├────┤ Ry(θ[14]) ├─────────────\n",
       "«     └───────────┘   ┌─┴─┐    ┌───┴───┴───┐└───────────┘             \n",
       "«q_3: ────────────────┤ X ├────┤ Ry(θ[15]) ├──────────────────────────\n",
       "«                     └───┘    └───────────┘                          "
      ]
     },
     "execution_count": 26,
     "metadata": {},
     "output_type": "execute_result"
    }
   ],
   "source": [
    "from qiskit.circuit.library import RealAmplitudes\n",
    "\n",
    "\n",
    "pqc = RealAmplitudes(num_qubits=num_qubits, reps=3)\n",
    "pqc.decompose().draw()"
   ]
  },
  {
   "cell_type": "code",
   "execution_count": 27,
   "metadata": {},
   "outputs": [],
   "source": [
    "from qiskit_algorithms.optimizers import COBYLA\n",
    "from qiskit_machine_learning.algorithms.classifiers import VQC    \n",
    "\n",
    "\n",
    "optimizer = COBYLA(maxiter=10)                 # maxiter = Maximum number of iterations (function evaluations)\n",
    "\n",
    "#------------------------------------------------------------------------------------------------\n",
    "\n",
    "from IPython.display import clear_output\n",
    "loss_func_vals = []\n",
    "                                    \n",
    "# a callback that can access the intermediate data during the optimization\n",
    "def callback(weights, loss_func_val):\n",
    "    clear_output(wait=True)\n",
    "    loss_func_vals.append(loss_func_val)\n",
    "    plt.xlabel(\"Iteration\")\n",
    "    plt.ylabel(\"Loss\")\n",
    "    plt.plot(range(len(loss_func_vals)), loss_func_vals)\n",
    "    plt.show()\n",
    "\n",
    "\n",
    "vqc = VQC(num_qubits=num_qubits, feature_map=fm, ansatz=pqc, loss='cross_entropy', optimizer=optimizer, callback=callback, sampler=None)"
   ]
  },
  {
   "cell_type": "code",
   "execution_count": 28,
   "metadata": {},
   "outputs": [
    {
     "data": {
      "image/png": "[encoded data removed]",
      "text/plain": [
       "<Figure size 640x480 with 1 Axes>"
      ]
     },
     "metadata": {},
     "output_type": "display_data"
    }
   ],
   "source": [
    "\n",
    "\n",
    "vqc.fit(X_train, y_train)"
   ]
  },
  {
   "cell_type": "markdown",
   "metadata": {},
   "source": [
    "## Performance evaluation"
   ]
  },
  {
   "cell_type": "code",
   "execution_count": null,
   "metadata": {},
   "outputs": [],
   "source": [
    "def performance_VQC(X, y, name):\n",
    "    y_pred = vqc.predict(X)\n",
    "    print(classification_report(y, y_pred))\n",
    "    print(f'{confusion_matrix(y, y_pred)} = confusion matrix for {name} set \\n')\n",
    "    return y_pred\n",
    "    \n",
    "\n",
    "y_pred_train = performance_VQC(X_train, y_train, 'train')\n",
    "y_pred_test = performance_VQC(X_test, y_test, 'test')"
   ]
  },
  {
   "cell_type": "code",
   "execution_count": null,
   "metadata": {},
   "outputs": [],
   "source": []
  }
 ],
 "metadata": {
  "kernelspec": {
   "display_name": "QIP",
   "language": "python",
   "name": "python3"
  },
  "language_info": {
   "codemirror_mode": {
    "name": "ipython",
    "version": 3
   },
   "file_extension": ".py",
   "mimetype": "text/x-python",
   "name": "python",
   "nbconvert_exporter": "python",
   "pygments_lexer": "ipython3",
   "version": "3.12.2"
  }
 },
 "nbformat": 4,
 "nbformat_minor": 2
}
