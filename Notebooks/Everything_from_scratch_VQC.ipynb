{
 "cells": [
  {
   "cell_type": "code",
   "execution_count": 48,
   "metadata": {},
   "outputs": [],
   "source": [
    "import matplotlib.pyplot as plt\n",
    "import numpy as np\n",
    "from IPython.display import clear_output\n",
    "from qiskit import QuantumCircuit\n",
    "from qiskit.circuit import Parameter\n",
    "from qiskit.circuit.library import RealAmplitudes, ZZFeatureMap\n",
    "from qiskit_algorithms.optimizers import COBYLA, L_BFGS_B,TNC\n",
    "from qiskit_algorithms.utils import algorithm_globals\n",
    "\n",
    "from qiskit_machine_learning.algorithms.classifiers import NeuralNetworkClassifier, VQC\n",
    "from qiskit_machine_learning.algorithms.regressors import NeuralNetworkRegressor, VQR\n",
    "from qiskit_machine_learning.neural_networks import SamplerQNN, EstimatorQNN\n",
    "from qiskit_machine_learning.circuit.library import QNNCircuit\n",
    "import numpy as np\n",
    "import matplotlib.pyplot as plt\n",
    "import time, copy, warnings\n",
    "\n",
    "import torch\n",
    "import torchvision\n",
    "\n",
    "from torchvision import datasets, transforms\n",
    "\n",
    "from sklearn import linear_model, svm\n",
    "from sklearn.ensemble import GradientBoostingClassifier, RandomForestClassifier\n",
    "from sklearn.neural_network import MLPClassifier\n",
    "\n",
    "from sklearn.metrics import classification_report, confusion_matrix, accuracy_score\n",
    "from qiskit_algorithms.utils import algorithm_globals\n",
    "\n",
    "np.random.seed(42)\n",
    "algorithm_globals.random_seed = 12345\n"
   ]
  },
  {
   "cell_type": "markdown",
   "metadata": {},
   "source": [
    "### Load the dataset"
   ]
  },
  {
   "cell_type": "code",
   "execution_count": 49,
   "metadata": {},
   "outputs": [],
   "source": [
    "# Load MNIST dataset\n",
    "def load_dataset(size,train=True):\n",
    "    root = '~/Documents/image_datasets/MNIST'\n",
    "    dataset = datasets.MNIST(root=root, train=train, download=True,\n",
    "                             transform=transforms.Compose([\n",
    "                                 transforms.Resize((size, size)),\n",
    "                                 transforms.ToTensor(),\n",
    "                                 transforms.Normalize(mean=(0.5,), std=(0.5,))\n",
    "                             ]))\n",
    "    return dataset\n",
    "\n",
    "\n",
    "size = 4\n",
    "trainset = load_dataset(train=True,size=size)\n",
    "testset = load_dataset(train=False,size=size)\n",
    "\n"
   ]
  },
  {
   "cell_type": "markdown",
   "metadata": {},
   "source": [
    "### Take subset of data with few classes"
   ]
  },
  {
   "cell_type": "code",
   "execution_count": 50,
   "metadata": {},
   "outputs": [],
   "source": [
    "# Generate subset from dataset\n",
    "def generate_subset(dataset, *classes):\n",
    "    class_indices = torch.cat([torch.where(dataset.targets == c)[0] for c in classes])\n",
    "    subset = torch.utils.data.Subset(dataset, class_indices)\n",
    "    X = np.array([image.flatten().numpy() for image, _ in subset])\n",
    "    y = np.array([label for _, label in subset])\n",
    "    return X, y\n",
    "\n",
    "\n",
    "\n",
    "\n",
    "# \n",
    "classes = [0, 1]\n",
    "X_train, y_train = generate_subset(trainset, *classes)\n",
    "X_test, y_test = generate_subset(testset, *classes)\n",
    "\n"
   ]
  },
  {
   "cell_type": "markdown",
   "metadata": {},
   "source": [
    "### Select subset of the subset randomly(Optional)"
   ]
  },
  {
   "cell_type": "code",
   "execution_count": 51,
   "metadata": {},
   "outputs": [],
   "source": [
    "# # Randomly sample a subset of data (optional)\n",
    "# random_indices_test = np.random.choice(range(len(X_test)), 100, replace=False)\n",
    "# X_test, y_test = X_test[random_indices_test], y_test[random_indices_test]\n",
    "\n",
    "# random_indices_train = np.random.choice(range(len(X_train)), 1000, replace=False)\n",
    "# X_train, y_train = X_train[random_indices_train], y_train[random_indices_train]"
   ]
  },
  {
   "cell_type": "markdown",
   "metadata": {},
   "source": [
    "### Information about the data"
   ]
  },
  {
   "cell_type": "code",
   "execution_count": 52,
   "metadata": {},
   "outputs": [
    {
     "name": "stdout",
     "output_type": "stream",
     "text": [
      "**Number of features in data is 16\n",
      "**Number of Classes are 2 which are [0, 1]\n",
      "**Total Training samples = 12665 \n",
      "**Datapoints  in each class in Training data are \n",
      " 0\n",
      "1    6742\n",
      "0    5923\n",
      "Name: count, dtype: int64\n",
      "**Total Testing samples = 2115 \n",
      "**Datapoints  in each class in Testing data are \n",
      " 0\n",
      "1    1135\n",
      "0     980\n",
      "Name: count, dtype: int64\n"
     ]
    }
   ],
   "source": [
    "import pandas as pd\n",
    "# size of the test and train set\n",
    "# print(f'Size of Training set is   \\n and Testing set is ')\n",
    "print(f'**Number of features in data is {X_train.shape[1]}')\n",
    "print(f'**Number of Classes are {len(classes)} which are {classes}')\n",
    "print(f'**Total Training samples = {X_train.shape[0]} \\n**Datapoints  in each class in Training data are \\n {pd.DataFrame(y_train).value_counts()}')\n",
    "print(f'**Total Testing samples = {X_test.shape[0]} \\n**Datapoints  in each class in Testing data are \\n {pd.DataFrame(y_test).value_counts()}')\n"
   ]
  },
  {
   "cell_type": "markdown",
   "metadata": {},
   "source": [
    "### Encoding of data"
   ]
  },
  {
   "cell_type": "code",
   "execution_count": 53,
   "metadata": {},
   "outputs": [
    {
     "data": {
      "text/html": [
       "<pre style=\"word-wrap: normal;white-space: pre;background: #fff0;line-height: 1.1;font-family: &quot;Courier New&quot;,Courier,monospace\">     »\n",
       "q_0: »\n",
       "     »\n",
       "q_1: »\n",
       "     »\n",
       "q_2: »\n",
       "     »\n",
       "q_3: »\n",
       "     »\n",
       "«     ┌─────────────────────────────────────────────────────────────────────────────────────────────────────────────────┐\n",
       "«q_0: ┤0                                                                                                                ├\n",
       "«     │                                                                                                                 │\n",
       "«q_1: ┤1                                                                                                                ├\n",
       "«     │  Parameterizedinitialize(x[0],x[1],x[2],x[3],x[4],x[5],x[6],x[7],x[8],x[9],x[10],x[11],x[12],x[13],x[14],x[15]) │\n",
       "«q_2: ┤2                                                                                                                ├\n",
       "«     │                                                                                                                 │\n",
       "«q_3: ┤3                                                                                                                ├\n",
       "«     └─────────────────────────────────────────────────────────────────────────────────────────────────────────────────┘</pre>"
      ],
      "text/plain": [
       "     »\n",
       "q_0: »\n",
       "     »\n",
       "q_1: »\n",
       "     »\n",
       "q_2: »\n",
       "     »\n",
       "q_3: »\n",
       "     »\n",
       "«     ┌─────────────────────────────────────────────────────────────────────────────────────────────────────────────────┐\n",
       "«q_0: ┤0                                                                                                                ├\n",
       "«     │                                                                                                                 │\n",
       "«q_1: ┤1                                                                                                                ├\n",
       "«     │  Parameterizedinitialize(x[0],x[1],x[2],x[3],x[4],x[5],x[6],x[7],x[8],x[9],x[10],x[11],x[12],x[13],x[14],x[15]) │\n",
       "«q_2: ┤2                                                                                                                ├\n",
       "«     │                                                                                                                 │\n",
       "«q_3: ┤3                                                                                                                ├\n",
       "«     └─────────────────────────────────────────────────────────────────────────────────────────────────────────────────┘"
      ]
     },
     "execution_count": 53,
     "metadata": {},
     "output_type": "execute_result"
    }
   ],
   "source": [
    "from qiskit.circuit.library import PauliFeatureMap, ZFeatureMap, ZZFeatureMap\n",
    "from qiskit_machine_learning.circuit.library import RawFeatureVector\n",
    "import numpy as np\n",
    "\n",
    "def create_feature_map(size, encoding):\n",
    "    \"\"\"\n",
    "    Creates a feature map circuit based on the specified encoding type.\n",
    "\n",
    "    Parameters:\n",
    "        size (int): The size of the features.\n",
    "        encoding (str): The encoding type. Choose from 'Pauli', 'Z', 'ZZ', or 'RawFeatureVector'.\n",
    "\n",
    "    Returns:\n",
    "        qiskit.QuantumCircuit: The feature map quantum circuit.\n",
    "    \"\"\"\n",
    "\n",
    "    num_features = size ** 2\n",
    "    num_qubits = num_features\n",
    "\n",
    "    if encoding == 'Pauli':\n",
    "        fm = PauliFeatureMap(feature_dimension=num_features, reps=1, paulis=['Z'])\n",
    "    elif encoding == 'Z':\n",
    "        fm = ZFeatureMap(feature_dimension=num_features, reps=1)\n",
    "    elif encoding == 'ZZ':\n",
    "        fm = ZZFeatureMap(feature_dimension=num_features, reps=1)\n",
    "    elif encoding == 'RawFeatureVector':\n",
    "        num_qubits = int(np.log2(num_features))\n",
    "        fm = RawFeatureVector(feature_dimension=num_features)\n",
    "    else:\n",
    "        raise ValueError(\"Invalid encoding type. Choose from 'Pauli', 'Z', 'ZZ', or 'RawFeatureVector'.\")\n",
    "\n",
    "    # print(f'number of (features, qubits) = {num_features, num_qubits}')\n",
    "\n",
    "    return fm, num_qubits\n",
    "\n",
    "# Example usage:\n",
    "encoding = 'RawFeatureVector'\n",
    "fm,num_qubits = create_feature_map(size, encoding)\n",
    "fm.draw()\n",
    "# def featureMap(n_qubits,data):\n",
    "#     qc = QuantumCircuit(n_qubits,2)\n",
    "#     for i, x in enumerate(data):\n",
    "#         qc.rx(x,i)\n",
    "#     return qc\n",
    "# qc = featureMap(16,X_train[0])\n",
    "\n",
    "# qc.measure_all()\n",
    "# qc.draw('mpl')"
   ]
  },
  {
   "cell_type": "code",
   "execution_count": null,
   "metadata": {},
   "outputs": [],
   "source": []
  },
  {
   "cell_type": "markdown",
   "metadata": {},
   "source": [
    "### Customized PQC"
   ]
  },
  {
   "cell_type": "code",
   "execution_count": 54,
   "metadata": {},
   "outputs": [
    {
     "data": {
      "image/png": "[encoded data removed]",
      "text/plain": [
       "<Figure size 789.163x367.889 with 1 Axes>"
      ]
     },
     "execution_count": 54,
     "metadata": {},
     "output_type": "execute_result"
    }
   ],
   "source": [
    "from qiskit.circuit.library import RealAmplitudes\n",
    "\n",
    "\n",
    "pqc = RealAmplitudes(num_qubits=num_qubits, reps=2)\n",
    "pqc.decompose().draw('mpl')\n",
    "# N=16\n",
    "# def variational_circuit(qc,theta):\n",
    "#     for i in range(N-1):\n",
    "#         qc.cx(i,i+1)\n",
    "#     for i in range(N):\n",
    "#         qc.ry(theta[i],i)\n",
    "#     return qc\n",
    "# qc = variational_circuit(qc,np.random.rand(N))\n",
    "# qc.draw('mpl')"
   ]
  },
  {
   "cell_type": "code",
   "execution_count": 56,
   "metadata": {},
   "outputs": [
    {
     "data": {
      "image/png": "[encoded data removed]",
      "text/plain": [
       "<Figure size 1458.05x367.889 with 1 Axes>"
      ]
     },
     "execution_count": 56,
     "metadata": {},
     "output_type": "execute_result"
    }
   ],
   "source": [
    "## Combined circuit\n",
    "vqc_ckt = fm.compose(pqc)\n",
    "# vqc_ckt=vqc_ckt.compose(fm)\n",
    "vqc_ckt.draw('mpl')"
   ]
  },
  {
   "cell_type": "code",
   "execution_count": 55,
   "metadata": {},
   "outputs": [
    {
     "data": {
      "text/plain": [
       "array([0.37454012, 0.95071431, 0.73199394, 0.59865848, 0.15601864,\n",
       "       0.15599452, 0.05808361, 0.86617615, 0.60111501, 0.70807258,\n",
       "       0.02058449, 0.96990985])"
      ]
     },
     "execution_count": 55,
     "metadata": {},
     "output_type": "execute_result"
    }
   ],
   "source": [
    "from qiskit.primitives import Estimator, Sampler\n",
    "#estimator = Estimator()\n",
    "sampler=Sampler()\n",
    "x0 = np.random.rand(pqc.num_parameters)\n",
    "x0"
   ]
  },
  {
   "cell_type": "code",
   "execution_count": 41,
   "metadata": {},
   "outputs": [
    {
     "name": "stdout",
     "output_type": "stream",
     "text": [
      "[0.0159326845967117, 0.0006437132065103, 0.0009735835018421, 0.0519922337378592, 0.0198399318093414, 8.88757574788e-05, 0.0198588159975406, 0.0970832172102527, 0.0007206779201283, 0.0199880826415627, 0.0019541763615628, 0.4097212005444522, 0.0077062868588867, 0.0131242494219632, 0.0929050987565341, 0.2474671716773728]\n",
      "1.0\n"
     ]
    }
   ],
   "source": [
    "# # Example usage:\n",
    "input_size = 2**num_qubits  # Size of the input vector\n",
    "output_size = len(classes)    # Size of the output vector\n",
    "\n",
    "# Initialize the model\n",
    "model = FCL(input_size, output_size)\n",
    "vqc_ckt = fm.compose(pqc)\n",
    "parameters = list(X_train[0]) + list(x0)\n",
    "vqc_ckt.measure_all()\n",
    "job = sampler.run(vqc_ckt, parameters)\n",
    "res = job.result().quasi_dists\n",
    "# res\n",
    "dis=list(res[0].values())\n",
    "#apply lambda function\n",
    "true = [0]*len(dis)\n",
    "if y_train[0]==0:\n",
    "    for j in range(len(true)):\n",
    "            if j%2==0:\n",
    "                true[j] = 1/8\n",
    "else:\n",
    "    for j in range(len(true)):\n",
    "        if j%2!=0:\n",
    "            true[j] = 1/8\n",
    "print(dis)\n",
    "print(true)\n"
   ]
  },
  {
   "cell_type": "code",
   "execution_count": 45,
   "metadata": {},
   "outputs": [
    {
     "name": "stdout",
     "output_type": "stream",
     "text": [
      "[-1.09067315e-01  6.43713207e-04 -1.24026416e-01  5.19922337e-02\n",
      " -1.05160068e-01  8.88757575e-05 -1.05141184e-01  9.70832172e-02\n",
      " -1.24279322e-01  1.99880826e-02 -1.23045824e-01  4.09721201e-01\n",
      " -1.17293713e-01  1.31242494e-02 -3.20949012e-02  2.47467172e-01]\n"
     ]
    }
   ],
   "source": [
    "import numpy as np\n",
    "pred = np.array(dis)\n",
    "true_label =np.array(true)\n",
    "\n",
    "loss = (pred-true)\n",
    "\n",
    "print(loss)"
   ]
  },
  {
   "cell_type": "code",
   "execution_count": 46,
   "metadata": {},
   "outputs": [
    {
     "data": {
      "text/plain": [
       "4.535815238952637"
      ]
     },
     "execution_count": 46,
     "metadata": {},
     "output_type": "execute_result"
    }
   ],
   "source": [
    "def cross_entropy(y_pred, y_true):\n",
    "    # Convert y_pred and y_true to PyTorch tensors\n",
    "    y_pred_tensor = torch.tensor(y_pred, dtype=torch.float32)\n",
    "    y_true_tensor = torch.tensor(y_true, dtype=torch.float32)\n",
    "\n",
    "    # Ensure y_pred_tensor has the shape of y_true_tensor\n",
    "    if y_pred_tensor.shape != y_true_tensor.shape:\n",
    "        raise ValueError(\"Shapes of y_pred and y_true must match.\")\n",
    "    # Compute softmax values for predicted probabilities\n",
    "    # y_pred_softmax = torch.softmax(y_pred_tensor, dim=-1)\n",
    "    y_true_softmax = torch.softmax(y_true_tensor, dim=-1)\n",
    "\n",
    "    # Compute cross-entropy loss\n",
    "    loss = -torch.sum(y_true_softmax * torch.log(y_pred_tensor + 1e-10))\n",
    "    # print(loss)\n",
    "    return loss.item()\n",
    "cross_entropy(pred,true_label)"
   ]
  },
  {
   "cell_type": "code",
   "execution_count": 47,
   "metadata": {},
   "outputs": [],
   "source": []
  },
  {
   "cell_type": "code",
   "execution_count": 61,
   "metadata": {},
   "outputs": [
    {
     "ename": "TypeError",
     "evalue": "'RawFeatureVector' object is not callable",
     "output_type": "error",
     "traceback": [
      "\u001b[0;31m---------------------------------------------------------------------------\u001b[0m",
      "\u001b[0;31mTypeError\u001b[0m                                 Traceback (most recent call last)",
      "Cell \u001b[0;32mIn[61], line 52\u001b[0m\n\u001b[1;32m     49\u001b[0m num_epochs \u001b[38;5;241m=\u001b[39m \u001b[38;5;241m10\u001b[39m\n\u001b[1;32m     50\u001b[0m \u001b[38;5;28;01mfor\u001b[39;00m epoch \u001b[38;5;129;01min\u001b[39;00m \u001b[38;5;28mrange\u001b[39m(num_epochs):\n\u001b[1;32m     51\u001b[0m     \u001b[38;5;66;03m# Forward pass\u001b[39;00m\n\u001b[0;32m---> 52\u001b[0m     outputs \u001b[38;5;241m=\u001b[39m \u001b[43mmodel\u001b[49m\u001b[43m(\u001b[49m\u001b[43mX_train_tensor\u001b[49m\u001b[43m)\u001b[49m\n\u001b[1;32m     53\u001b[0m     loss \u001b[38;5;241m=\u001b[39m criterion(outputs, y_train_tensor)\n\u001b[1;32m     55\u001b[0m     \u001b[38;5;66;03m# Backward pass and optimization\u001b[39;00m\n",
      "File \u001b[0;32m~/anaconda3/envs/QIP/lib/python3.12/site-packages/torch/nn/modules/module.py:1511\u001b[0m, in \u001b[0;36mModule._wrapped_call_impl\u001b[0;34m(self, *args, **kwargs)\u001b[0m\n\u001b[1;32m   1509\u001b[0m     \u001b[38;5;28;01mreturn\u001b[39;00m \u001b[38;5;28mself\u001b[39m\u001b[38;5;241m.\u001b[39m_compiled_call_impl(\u001b[38;5;241m*\u001b[39margs, \u001b[38;5;241m*\u001b[39m\u001b[38;5;241m*\u001b[39mkwargs)  \u001b[38;5;66;03m# type: ignore[misc]\u001b[39;00m\n\u001b[1;32m   1510\u001b[0m \u001b[38;5;28;01melse\u001b[39;00m:\n\u001b[0;32m-> 1511\u001b[0m     \u001b[38;5;28;01mreturn\u001b[39;00m \u001b[38;5;28;43mself\u001b[39;49m\u001b[38;5;241;43m.\u001b[39;49m\u001b[43m_call_impl\u001b[49m\u001b[43m(\u001b[49m\u001b[38;5;241;43m*\u001b[39;49m\u001b[43margs\u001b[49m\u001b[43m,\u001b[49m\u001b[43m \u001b[49m\u001b[38;5;241;43m*\u001b[39;49m\u001b[38;5;241;43m*\u001b[39;49m\u001b[43mkwargs\u001b[49m\u001b[43m)\u001b[49m\n",
      "File \u001b[0;32m~/anaconda3/envs/QIP/lib/python3.12/site-packages/torch/nn/modules/module.py:1520\u001b[0m, in \u001b[0;36mModule._call_impl\u001b[0;34m(self, *args, **kwargs)\u001b[0m\n\u001b[1;32m   1515\u001b[0m \u001b[38;5;66;03m# If we don't have any hooks, we want to skip the rest of the logic in\u001b[39;00m\n\u001b[1;32m   1516\u001b[0m \u001b[38;5;66;03m# this function, and just call forward.\u001b[39;00m\n\u001b[1;32m   1517\u001b[0m \u001b[38;5;28;01mif\u001b[39;00m \u001b[38;5;129;01mnot\u001b[39;00m (\u001b[38;5;28mself\u001b[39m\u001b[38;5;241m.\u001b[39m_backward_hooks \u001b[38;5;129;01mor\u001b[39;00m \u001b[38;5;28mself\u001b[39m\u001b[38;5;241m.\u001b[39m_backward_pre_hooks \u001b[38;5;129;01mor\u001b[39;00m \u001b[38;5;28mself\u001b[39m\u001b[38;5;241m.\u001b[39m_forward_hooks \u001b[38;5;129;01mor\u001b[39;00m \u001b[38;5;28mself\u001b[39m\u001b[38;5;241m.\u001b[39m_forward_pre_hooks\n\u001b[1;32m   1518\u001b[0m         \u001b[38;5;129;01mor\u001b[39;00m _global_backward_pre_hooks \u001b[38;5;129;01mor\u001b[39;00m _global_backward_hooks\n\u001b[1;32m   1519\u001b[0m         \u001b[38;5;129;01mor\u001b[39;00m _global_forward_hooks \u001b[38;5;129;01mor\u001b[39;00m _global_forward_pre_hooks):\n\u001b[0;32m-> 1520\u001b[0m     \u001b[38;5;28;01mreturn\u001b[39;00m \u001b[43mforward_call\u001b[49m\u001b[43m(\u001b[49m\u001b[38;5;241;43m*\u001b[39;49m\u001b[43margs\u001b[49m\u001b[43m,\u001b[49m\u001b[43m \u001b[49m\u001b[38;5;241;43m*\u001b[39;49m\u001b[38;5;241;43m*\u001b[39;49m\u001b[43mkwargs\u001b[49m\u001b[43m)\u001b[49m\n\u001b[1;32m   1522\u001b[0m \u001b[38;5;28;01mtry\u001b[39;00m:\n\u001b[1;32m   1523\u001b[0m     result \u001b[38;5;241m=\u001b[39m \u001b[38;5;28;01mNone\u001b[39;00m\n",
      "Cell \u001b[0;32mIn[61], line 19\u001b[0m, in \u001b[0;36mQuantumClassicalHybrid.forward\u001b[0;34m(self, x)\u001b[0m\n\u001b[1;32m     17\u001b[0m \u001b[38;5;28;01mdef\u001b[39;00m \u001b[38;5;21mforward\u001b[39m(\u001b[38;5;28mself\u001b[39m, x):\n\u001b[1;32m     18\u001b[0m     \u001b[38;5;66;03m# Pass input through Quantum Variational Circuit (QVC)\u001b[39;00m\n\u001b[0;32m---> 19\u001b[0m     qvc_output \u001b[38;5;241m=\u001b[39m \u001b[38;5;28;43mself\u001b[39;49m\u001b[38;5;241;43m.\u001b[39;49m\u001b[43mqvc\u001b[49m\u001b[43m(\u001b[49m\u001b[43mx\u001b[49m\u001b[43m)\u001b[49m\n\u001b[1;32m     21\u001b[0m     \u001b[38;5;66;03m# Pass QVC output through Classical Neural Network Layers\u001b[39;00m\n\u001b[1;32m     22\u001b[0m     x \u001b[38;5;241m=\u001b[39m F\u001b[38;5;241m.\u001b[39mrelu(\u001b[38;5;28mself\u001b[39m\u001b[38;5;241m.\u001b[39mfc1(qvc_output))\n",
      "\u001b[0;31mTypeError\u001b[0m: 'RawFeatureVector' object is not callable"
     ]
    }
   ],
   "source": [
    "import torch\n",
    "import torch.nn as nn\n",
    "import torch.optim as optim\n",
    "import torch.nn.functional as F\n",
    "\n",
    "class QuantumClassicalHybrid(nn.Module):\n",
    "    def __init__(self, qvc, qvc_output_size, num_classes):\n",
    "        super(QuantumClassicalHybrid, self).__init__()\n",
    "        \n",
    "        # Define Quantum Variational Circuit (QVC)\n",
    "        self.qvc = qvc\n",
    "        \n",
    "        # Define Classical Neural Network Layers\n",
    "        self.fc1 = nn.Linear(qvc_output_size, 128)\n",
    "        self.fc2 = nn.Linear(128, num_classes)\n",
    "        \n",
    "    def forward(self, x):\n",
    "        # Pass input through Quantum Variational Circuit (QVC)\n",
    "        qvc_output = self.qvc(x)\n",
    "        \n",
    "        # Pass QVC output through Classical Neural Network Layers\n",
    "        x = F.relu(self.fc1(qvc_output))\n",
    "        x = self.fc2(x)\n",
    "        \n",
    "        return x\n",
    "\n",
    "# Example usage:\n",
    "input_size = 2**num_qubits  # Size of the input vector\n",
    "output_size = len(classes)    # Size of the output vector\n",
    "\n",
    "# Initialize the quantum variational circuit\n",
    "# Note: You need to initialize fm and pqc before passing them to the model\n",
    "# fm, num_qubits = create_feature_map(size, encoding)\n",
    "# pqc = RealAmplitudes(num_qubits=num_qubits, reps=2)\n",
    "# sampler = Sampler()\n",
    "\n",
    "# Initialize the hybrid model\n",
    "model = QuantumClassicalHybrid(fm.compose(pqc), input_size, output_size)\n",
    "\n",
    "# Define loss function and optimizer\n",
    "criterion = nn.CrossEntropyLoss()\n",
    "optimizer = optim.Adam(model.parameters(), lr=0.001)\n",
    "\n",
    "# Convert data to torch tensors\n",
    "X_train_tensor = torch.tensor(X_train, dtype=torch.float32)\n",
    "y_train_tensor = torch.tensor(y_train, dtype=torch.long)\n",
    "\n",
    "# Training loop\n",
    "num_epochs = 10\n",
    "for epoch in range(num_epochs):\n",
    "    # Forward pass\n",
    "    outputs = model(X_train_tensor)\n",
    "    loss = criterion(outputs, y_train_tensor)\n",
    "    \n",
    "    # Backward pass and optimization\n",
    "    optimizer.zero_grad()\n",
    "    loss.backward()\n",
    "    optimizer.step()\n",
    "    \n",
    "    print(f'Epoch [{epoch+1}/{num_epochs}], Loss: {loss.item():.4f}')\n"
   ]
  },
  {
   "cell_type": "code",
   "execution_count": null,
   "metadata": {},
   "outputs": [],
   "source": []
  }
 ],
 "metadata": {
  "kernelspec": {
   "display_name": "QIP",
   "language": "python",
   "name": "python3"
  },
  "language_info": {
   "codemirror_mode": {
    "name": "ipython",
    "version": 3
   },
   "file_extension": ".py",
   "mimetype": "text/x-python",
   "name": "python",
   "nbconvert_exporter": "python",
   "pygments_lexer": "ipython3",
   "version": "3.12.2"
  }
 },
 "nbformat": 4,
 "nbformat_minor": 2
}
